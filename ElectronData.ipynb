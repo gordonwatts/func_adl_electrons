{
 "cells": [
  {
   "cell_type": "markdown",
   "metadata": {},
   "source": [
    "# Fetching Simple Electron Data\n",
    "\n",
    "This notebook is a demo for using the various things to feetch electron data. We are copying a request from the `ServiceX` system. Our backend uses a C++.\n",
    "\n",
    "Here is the original `ServiceX` request:\n",
    "\n",
    "`{\"_index\":\"servicex\",\"_type\":\"docs\",\"_id\":\"cbHcKWwBMWltPFRM5lOQ\",\"_score\":1,\"_source\":{\"name\":\"Test15\",\"user\":\"fdc8d58a-2471-42f1-9eed-fb7b2effaf39\",\"description\":\"Z to ee\",\"dataset\":\"mc15_13TeV:mc15_13TeV.361106.PowhegPythia8EvtGen_AZNLOCTEQ6L1_Zee.merge.DAOD_STDM3.e3601_s2576_s2132_r6630_r6264_p2363_tid05630052_00\",\"columns\":[\"Electrons.pt()\",\"Electrons.eta()\",\" Electrons.phi()\",\" Electrons.e()\",\" Muons.pt()\",\" Muons.eta()\",\" Muons.phi()\",\" Muons.e()\"],\"events\":\"0\",\"status\":\"Validated\",\"created_at\":1564070438538,\"modified_at\":1564071050148,\"events_processed\":0,\"events_served\":109500,\"kafka_lwm\":0,\"kafka_hwm\":0,\"redis_messages\":101,\"redis_consumers\":0,\"paused_transforms\":true,\"info\":\"Created\\n17 files can be accessed.\\n0 files can't be accessed.\\nTotal size: 74851738602.\\nValidated OK\",\"dataset_files\":17,\"dataset_size\":74851738602,\"dataset_events\":1993800}}`"
   ]
  },
  {
   "cell_type": "markdown",
   "metadata": {},
   "source": [
    "## Setup\n",
    "\n",
    "You need to have the `func_adl` package installed. Use the following line to do that.\n",
    "\n",
    "`blah blah blah`"
   ]
  },
  {
   "cell_type": "code",
   "execution_count": 26,
   "metadata": {},
   "outputs": [],
   "source": [
    "from adl_func_client.event_dataset import EventDataset\n",
    "from adl_func_client.use_exe_func_adl_server import use_exe_func_adl_server\n",
    "\n",
    "import uproot_methods\n",
    "import matplotlib.pyplot as plt\n",
    "\n",
    "import datetime"
   ]
  },
  {
   "cell_type": "markdown",
   "metadata": {},
   "source": [
    "Next thing you need is an endpont. This is for a cache that is setup in a docker container. But you can point directly at the service (the protocal is identical):"
   ]
  },
  {
   "cell_type": "code",
   "execution_count": 2,
   "metadata": {},
   "outputs": [],
   "source": [
    "end_point = 'http://localhost:30000'"
   ]
  },
  {
   "cell_type": "markdown",
   "metadata": {},
   "source": [
    "## Fetching the data"
   ]
  },
  {
   "cell_type": "code",
   "execution_count": 6,
   "metadata": {},
   "outputs": [],
   "source": [
    "ds = EventDataset('localds://mc15_13TeV.361106.PowhegPythia8EvtGen_AZNLOCTEQ6L1_Zee.merge.DAOD_STDM3.e3601_s2576_s2132_r6630_r6264_p2363_tid05630052_00')"
   ]
  },
  {
   "cell_type": "code",
   "execution_count": 7,
   "metadata": {},
   "outputs": [],
   "source": [
    "leptons_per_event_as = ds \\\n",
    "        .Select('lambda e: (e.Electrons(\"Electrons\"), e.Muons(\"Muons\"))') \\\n",
    "        .Select('lambda ls: (ls[0].Select(lambda e: e.pt()), ls[0].Select(lambda e: e.eta()), ls[0].Select(lambda e: e.phi()), ls[0].Select(lambda e: e.e()),ls[1].Select(lambda m: m.pt()), ls[1].Select(lambda m: m.eta()), ls[1].Select(lambda m: m.phi()), ls[1].Select(lambda m: m.e()))') \\\n",
    "        .AsAwkwardArray(('ElePt', 'EleEta', 'ElePhi', 'EleE', 'MuPt', 'MuEta', 'MuPhi', 'MuE')) \\\n",
    "        .future_value(executor=lambda a: use_exe_func_adl_server(a, node=end_point, quiet=False))"
   ]
  },
  {
   "cell_type": "code",
   "execution_count": 8,
   "metadata": {},
   "outputs": [
    {
     "name": "stdout",
     "output_type": "stream",
     "text": [
      "Files that were returned:\n",
      "  ['file:///C:\\\\Users\\\\gordo\\\\Documents\\\\func-adl-cache/40ae9bb8bd6cf8bcb7ae703c715939d7/ANALYSIS_001.root', 'pandas_tree28']\n"
     ]
    }
   ],
   "source": [
    "leptons_per_event = await leptons_per_event_as"
   ]
  },
  {
   "cell_type": "code",
   "execution_count": 15,
   "metadata": {},
   "outputs": [],
   "source": [
    "v_particles = uproot_methods.TLorentzVectorArray.from_ptetaphi(\n",
    "    leptons_per_event[b'ElePt'], leptons_per_event[b'EleEta'],\n",
    "    leptons_per_event[b'ElePhi'], leptons_per_event[b'EleE'],\n",
    "    )"
   ]
  },
  {
   "cell_type": "code",
   "execution_count": 17,
   "metadata": {},
   "outputs": [],
   "source": [
    "v_particles = v_particles[v_particles.counts >= 2]\n",
    "diparticles = v_particles[:, 0] + v_particles[:, 1]"
   ]
  },
  {
   "cell_type": "code",
   "execution_count": 39,
   "metadata": {},
   "outputs": [
    {
     "data": {
      "image/png": "[encoded data removed]",
      "text/plain": [
       "<Figure size 864x432 with 1 Axes>"
      ]
     },
     "metadata": {
      "needs_background": "light"
     },
     "output_type": "display_data"
    }
   ],
   "source": [
    "plt.figure(figsize=(12, 6))\n",
    "plt.hist(diparticles.mass/1000.0, bins=100, range=(0,200))\n",
    "plt.title('Di-Electron Mass')\n",
    "plt.xlabel('$m_{ee}$ [GeV]')\n",
    "plt.ylabel('Count')\n",
    "plt.show()"
   ]
  },
  {
   "cell_type": "code",
   "execution_count": 19,
   "metadata": {},
   "outputs": [
    {
     "data": {
      "text/plain": [
       "1603015"
      ]
     },
     "execution_count": 19,
     "metadata": {},
     "output_type": "execute_result"
    }
   ],
   "source": [
    "len(v_particles)"
   ]
  },
  {
   "cell_type": "code",
   "execution_count": null,
   "metadata": {},
   "outputs": [],
   "source": []
  }
 ],
 "metadata": {
  "kernelspec": {
   "display_name": "Python 3",
   "language": "python",
   "name": "python3"
  },
  "language_info": {
   "codemirror_mode": {
    "name": "ipython",
    "version": 3
   },
   "file_extension": ".py",
   "mimetype": "text/x-python",
   "name": "python",
   "nbconvert_exporter": "python",
   "pygments_lexer": "ipython3",
   "version": "3.7.3"
  }
 },
 "nbformat": 4,
 "nbformat_minor": 4
}
